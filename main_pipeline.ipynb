{
 "cells": [
  {
   "cell_type": "code",
   "execution_count": 1,
   "id": "e4c5e650-3dac-4ae2-9ec3-a2192c24f5ff",
   "metadata": {},
   "outputs": [
    {
     "name": "stdout",
     "output_type": "stream",
     "text": [
      "This is the main Pipeline of the Project\n"
     ]
    }
   ],
   "source": [
    "print(\"This is the main Pipeline of the Project\")"
   ]
  },
  {
   "cell_type": "code",
   "execution_count": null,
   "id": "f20b51d8-3775-4da0-ade9-6e64e2d1ebce",
   "metadata": {},
   "outputs": [],
   "source": []
  }
 ],
 "metadata": {
  "kernelspec": {
   "display_name": "Python 3 (ipykernel)",
   "language": "python",
   "name": "python3"
  },
  "language_info": {
   "codemirror_mode": {
    "name": "ipython",
    "version": 3
   },
   "file_extension": ".py",
   "mimetype": "text/x-python",
   "name": "python",
   "nbconvert_exporter": "python",
   "pygments_lexer": "ipython3",
   "version": "3.12.3"
  }
 },
 "nbformat": 4,
 "nbformat_minor": 5
}
