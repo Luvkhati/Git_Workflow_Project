{
 "cells": [
  {
   "cell_type": "code",
   "execution_count": 1,
   "id": "4df987ee-8d16-48ad-9fad-e29550295e8b",
   "metadata": {},
   "outputs": [
    {
     "name": "stdout",
     "output_type": "stream",
     "text": [
      "This notebook is for cleaning the data in the Pipeline\n"
     ]
    }
   ],
   "source": [
    "print('This notebook is for cleaning the data in the Pipeline')"
   ]
  },
  {
   "cell_type": "code",
   "execution_count": null,
   "id": "0d065566-5b91-46ce-9a0c-ac0fee9f55cd",
   "metadata": {},
   "outputs": [],
   "source": []
  }
 ],
 "metadata": {
  "kernelspec": {
   "display_name": "Python 3 (ipykernel)",
   "language": "python",
   "name": "python3"
  },
  "language_info": {
   "codemirror_mode": {
    "name": "ipython",
    "version": 3
   },
   "file_extension": ".py",
   "mimetype": "text/x-python",
   "name": "python",
   "nbconvert_exporter": "python",
   "pygments_lexer": "ipython3",
   "version": "3.12.3"
  }
 },
 "nbformat": 4,
 "nbformat_minor": 5
}
